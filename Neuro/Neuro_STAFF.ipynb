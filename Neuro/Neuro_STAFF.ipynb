{
 "cells": [
  {
   "cell_type": "code",
   "execution_count": 2,
   "metadata": {},
   "outputs": [
    {
     "name": "stdout",
     "output_type": "stream",
     "text": [
      "Collecting langchain==0.0.270\n",
      "  Using cached langchain-0.0.270-py3-none-any.whl.metadata (14 kB)\n",
      "Requirement already satisfied: PyYAML>=5.3 in c:\\users\\lenovo\\desktop\\ite group\\ai_staff\\.venv\\lib\\site-packages (from langchain==0.0.270) (6.0.1)\n",
      "Requirement already satisfied: SQLAlchemy<3,>=1.4 in c:\\users\\lenovo\\desktop\\ite group\\ai_staff\\.venv\\lib\\site-packages (from langchain==0.0.270) (2.0.31)\n",
      "Requirement already satisfied: aiohttp<4.0.0,>=3.8.3 in c:\\users\\lenovo\\desktop\\ite group\\ai_staff\\.venv\\lib\\site-packages (from langchain==0.0.270) (3.9.5)\n",
      "Requirement already satisfied: dataclasses-json<0.6.0,>=0.5.7 in c:\\users\\lenovo\\desktop\\ite group\\ai_staff\\.venv\\lib\\site-packages (from langchain==0.0.270) (0.5.14)\n",
      "Requirement already satisfied: langsmith<0.1.0,>=0.0.21 in c:\\users\\lenovo\\desktop\\ite group\\ai_staff\\.venv\\lib\\site-packages (from langchain==0.0.270) (0.0.92)\n",
      "Requirement already satisfied: numexpr<3.0.0,>=2.8.4 in c:\\users\\lenovo\\desktop\\ite group\\ai_staff\\.venv\\lib\\site-packages (from langchain==0.0.270) (2.10.1)\n",
      "Requirement already satisfied: numpy<2,>=1 in c:\\users\\lenovo\\desktop\\ite group\\ai_staff\\.venv\\lib\\site-packages (from langchain==0.0.270) (1.26.4)\n",
      "Requirement already satisfied: pydantic<3,>=1 in c:\\users\\lenovo\\desktop\\ite group\\ai_staff\\.venv\\lib\\site-packages (from langchain==0.0.270) (2.8.2)\n",
      "Requirement already satisfied: requests<3,>=2 in c:\\users\\lenovo\\desktop\\ite group\\ai_staff\\.venv\\lib\\site-packages (from langchain==0.0.270) (2.32.3)\n",
      "Requirement already satisfied: tenacity<9.0.0,>=8.1.0 in c:\\users\\lenovo\\desktop\\ite group\\ai_staff\\.venv\\lib\\site-packages (from langchain==0.0.270) (8.4.2)\n",
      "Requirement already satisfied: aiosignal>=1.1.2 in c:\\users\\lenovo\\desktop\\ite group\\ai_staff\\.venv\\lib\\site-packages (from aiohttp<4.0.0,>=3.8.3->langchain==0.0.270) (1.3.1)\n",
      "Requirement already satisfied: attrs>=17.3.0 in c:\\users\\lenovo\\desktop\\ite group\\ai_staff\\.venv\\lib\\site-packages (from aiohttp<4.0.0,>=3.8.3->langchain==0.0.270) (23.2.0)\n",
      "Requirement already satisfied: frozenlist>=1.1.1 in c:\\users\\lenovo\\desktop\\ite group\\ai_staff\\.venv\\lib\\site-packages (from aiohttp<4.0.0,>=3.8.3->langchain==0.0.270) (1.4.1)\n",
      "Requirement already satisfied: multidict<7.0,>=4.5 in c:\\users\\lenovo\\desktop\\ite group\\ai_staff\\.venv\\lib\\site-packages (from aiohttp<4.0.0,>=3.8.3->langchain==0.0.270) (6.0.5)\n",
      "Requirement already satisfied: yarl<2.0,>=1.0 in c:\\users\\lenovo\\desktop\\ite group\\ai_staff\\.venv\\lib\\site-packages (from aiohttp<4.0.0,>=3.8.3->langchain==0.0.270) (1.9.4)\n",
      "Requirement already satisfied: marshmallow<4.0.0,>=3.18.0 in c:\\users\\lenovo\\desktop\\ite group\\ai_staff\\.venv\\lib\\site-packages (from dataclasses-json<0.6.0,>=0.5.7->langchain==0.0.270) (3.21.3)\n",
      "Requirement already satisfied: typing-inspect<1,>=0.4.0 in c:\\users\\lenovo\\desktop\\ite group\\ai_staff\\.venv\\lib\\site-packages (from dataclasses-json<0.6.0,>=0.5.7->langchain==0.0.270) (0.9.0)\n",
      "Requirement already satisfied: annotated-types>=0.4.0 in c:\\users\\lenovo\\desktop\\ite group\\ai_staff\\.venv\\lib\\site-packages (from pydantic<3,>=1->langchain==0.0.270) (0.7.0)\n",
      "Requirement already satisfied: pydantic-core==2.20.1 in c:\\users\\lenovo\\desktop\\ite group\\ai_staff\\.venv\\lib\\site-packages (from pydantic<3,>=1->langchain==0.0.270) (2.20.1)\n",
      "Requirement already satisfied: typing-extensions>=4.6.1 in c:\\users\\lenovo\\desktop\\ite group\\ai_staff\\.venv\\lib\\site-packages (from pydantic<3,>=1->langchain==0.0.270) (4.12.2)\n",
      "Requirement already satisfied: charset-normalizer<4,>=2 in c:\\users\\lenovo\\desktop\\ite group\\ai_staff\\.venv\\lib\\site-packages (from requests<3,>=2->langchain==0.0.270) (3.3.2)\n",
      "Requirement already satisfied: idna<4,>=2.5 in c:\\users\\lenovo\\desktop\\ite group\\ai_staff\\.venv\\lib\\site-packages (from requests<3,>=2->langchain==0.0.270) (3.7)\n",
      "Requirement already satisfied: urllib3<3,>=1.21.1 in c:\\users\\lenovo\\desktop\\ite group\\ai_staff\\.venv\\lib\\site-packages (from requests<3,>=2->langchain==0.0.270) (2.2.2)\n",
      "Requirement already satisfied: certifi>=2017.4.17 in c:\\users\\lenovo\\desktop\\ite group\\ai_staff\\.venv\\lib\\site-packages (from requests<3,>=2->langchain==0.0.270) (2024.7.4)\n",
      "Requirement already satisfied: greenlet!=0.4.17 in c:\\users\\lenovo\\desktop\\ite group\\ai_staff\\.venv\\lib\\site-packages (from SQLAlchemy<3,>=1.4->langchain==0.0.270) (3.0.3)\n",
      "Requirement already satisfied: packaging>=17.0 in c:\\users\\lenovo\\desktop\\ite group\\ai_staff\\.venv\\lib\\site-packages (from marshmallow<4.0.0,>=3.18.0->dataclasses-json<0.6.0,>=0.5.7->langchain==0.0.270) (24.1)\n",
      "Requirement already satisfied: mypy-extensions>=0.3.0 in c:\\users\\lenovo\\desktop\\ite group\\ai_staff\\.venv\\lib\\site-packages (from typing-inspect<1,>=0.4.0->dataclasses-json<0.6.0,>=0.5.7->langchain==0.0.270) (1.0.0)\n",
      "Using cached langchain-0.0.270-py3-none-any.whl (1.5 MB)\n",
      "Installing collected packages: langchain\n",
      "  Attempting uninstall: langchain\n",
      "    Found existing installation: langchain 0.0.271\n",
      "    Uninstalling langchain-0.0.271:\n",
      "      Successfully uninstalled langchain-0.0.271\n",
      "Successfully installed langchain-0.0.270\n",
      "Requirement already satisfied: faiss-cpu in c:\\users\\lenovo\\desktop\\ite group\\ai_staff\\.venv\\lib\\site-packages (1.8.0.post1)\n",
      "Collecting langchain==0.0.271\n",
      "  Using cached langchain-0.0.271-py3-none-any.whl.metadata (14 kB)\n",
      "Requirement already satisfied: openai in c:\\users\\lenovo\\desktop\\ite group\\ai_staff\\.venv\\lib\\site-packages (0.28.1)\n",
      "Requirement already satisfied: tiktoken in c:\\users\\lenovo\\desktop\\ite group\\ai_staff\\.venv\\lib\\site-packages (0.7.0)\n",
      "Requirement already satisfied: PyYAML>=5.3 in c:\\users\\lenovo\\desktop\\ite group\\ai_staff\\.venv\\lib\\site-packages (from langchain==0.0.271) (6.0.1)\n",
      "Requirement already satisfied: SQLAlchemy<3,>=1.4 in c:\\users\\lenovo\\desktop\\ite group\\ai_staff\\.venv\\lib\\site-packages (from langchain==0.0.271) (2.0.31)\n",
      "Requirement already satisfied: aiohttp<4.0.0,>=3.8.3 in c:\\users\\lenovo\\desktop\\ite group\\ai_staff\\.venv\\lib\\site-packages (from langchain==0.0.271) (3.9.5)\n",
      "Requirement already satisfied: dataclasses-json<0.6.0,>=0.5.7 in c:\\users\\lenovo\\desktop\\ite group\\ai_staff\\.venv\\lib\\site-packages (from langchain==0.0.271) (0.5.14)\n",
      "Requirement already satisfied: langsmith<0.1.0,>=0.0.21 in c:\\users\\lenovo\\desktop\\ite group\\ai_staff\\.venv\\lib\\site-packages (from langchain==0.0.271) (0.0.92)\n",
      "Requirement already satisfied: numexpr<3.0.0,>=2.8.4 in c:\\users\\lenovo\\desktop\\ite group\\ai_staff\\.venv\\lib\\site-packages (from langchain==0.0.271) (2.10.1)\n",
      "Requirement already satisfied: numpy<2,>=1 in c:\\users\\lenovo\\desktop\\ite group\\ai_staff\\.venv\\lib\\site-packages (from langchain==0.0.271) (1.26.4)\n",
      "Requirement already satisfied: pydantic<3,>=1 in c:\\users\\lenovo\\desktop\\ite group\\ai_staff\\.venv\\lib\\site-packages (from langchain==0.0.271) (2.8.2)\n",
      "Requirement already satisfied: requests<3,>=2 in c:\\users\\lenovo\\desktop\\ite group\\ai_staff\\.venv\\lib\\site-packages (from langchain==0.0.271) (2.32.3)\n",
      "Requirement already satisfied: tenacity<9.0.0,>=8.1.0 in c:\\users\\lenovo\\desktop\\ite group\\ai_staff\\.venv\\lib\\site-packages (from langchain==0.0.271) (8.4.2)\n",
      "Requirement already satisfied: packaging in c:\\users\\lenovo\\desktop\\ite group\\ai_staff\\.venv\\lib\\site-packages (from faiss-cpu) (24.1)\n",
      "Requirement already satisfied: tqdm in c:\\users\\lenovo\\desktop\\ite group\\ai_staff\\.venv\\lib\\site-packages (from openai) (4.66.4)\n",
      "Requirement already satisfied: regex>=2022.1.18 in c:\\users\\lenovo\\desktop\\ite group\\ai_staff\\.venv\\lib\\site-packages (from tiktoken) (2024.5.15)\n",
      "Requirement already satisfied: aiosignal>=1.1.2 in c:\\users\\lenovo\\desktop\\ite group\\ai_staff\\.venv\\lib\\site-packages (from aiohttp<4.0.0,>=3.8.3->langchain==0.0.271) (1.3.1)\n",
      "Requirement already satisfied: attrs>=17.3.0 in c:\\users\\lenovo\\desktop\\ite group\\ai_staff\\.venv\\lib\\site-packages (from aiohttp<4.0.0,>=3.8.3->langchain==0.0.271) (23.2.0)\n",
      "Requirement already satisfied: frozenlist>=1.1.1 in c:\\users\\lenovo\\desktop\\ite group\\ai_staff\\.venv\\lib\\site-packages (from aiohttp<4.0.0,>=3.8.3->langchain==0.0.271) (1.4.1)\n",
      "Requirement already satisfied: multidict<7.0,>=4.5 in c:\\users\\lenovo\\desktop\\ite group\\ai_staff\\.venv\\lib\\site-packages (from aiohttp<4.0.0,>=3.8.3->langchain==0.0.271) (6.0.5)\n",
      "Requirement already satisfied: yarl<2.0,>=1.0 in c:\\users\\lenovo\\desktop\\ite group\\ai_staff\\.venv\\lib\\site-packages (from aiohttp<4.0.0,>=3.8.3->langchain==0.0.271) (1.9.4)\n",
      "Requirement already satisfied: marshmallow<4.0.0,>=3.18.0 in c:\\users\\lenovo\\desktop\\ite group\\ai_staff\\.venv\\lib\\site-packages (from dataclasses-json<0.6.0,>=0.5.7->langchain==0.0.271) (3.21.3)\n",
      "Requirement already satisfied: typing-inspect<1,>=0.4.0 in c:\\users\\lenovo\\desktop\\ite group\\ai_staff\\.venv\\lib\\site-packages (from dataclasses-json<0.6.0,>=0.5.7->langchain==0.0.271) (0.9.0)\n",
      "Requirement already satisfied: annotated-types>=0.4.0 in c:\\users\\lenovo\\desktop\\ite group\\ai_staff\\.venv\\lib\\site-packages (from pydantic<3,>=1->langchain==0.0.271) (0.7.0)\n",
      "Requirement already satisfied: pydantic-core==2.20.1 in c:\\users\\lenovo\\desktop\\ite group\\ai_staff\\.venv\\lib\\site-packages (from pydantic<3,>=1->langchain==0.0.271) (2.20.1)\n",
      "Requirement already satisfied: typing-extensions>=4.6.1 in c:\\users\\lenovo\\desktop\\ite group\\ai_staff\\.venv\\lib\\site-packages (from pydantic<3,>=1->langchain==0.0.271) (4.12.2)\n",
      "Requirement already satisfied: charset-normalizer<4,>=2 in c:\\users\\lenovo\\desktop\\ite group\\ai_staff\\.venv\\lib\\site-packages (from requests<3,>=2->langchain==0.0.271) (3.3.2)\n",
      "Requirement already satisfied: idna<4,>=2.5 in c:\\users\\lenovo\\desktop\\ite group\\ai_staff\\.venv\\lib\\site-packages (from requests<3,>=2->langchain==0.0.271) (3.7)\n",
      "Requirement already satisfied: urllib3<3,>=1.21.1 in c:\\users\\lenovo\\desktop\\ite group\\ai_staff\\.venv\\lib\\site-packages (from requests<3,>=2->langchain==0.0.271) (2.2.2)\n",
      "Requirement already satisfied: certifi>=2017.4.17 in c:\\users\\lenovo\\desktop\\ite group\\ai_staff\\.venv\\lib\\site-packages (from requests<3,>=2->langchain==0.0.271) (2024.7.4)\n",
      "Requirement already satisfied: greenlet!=0.4.17 in c:\\users\\lenovo\\desktop\\ite group\\ai_staff\\.venv\\lib\\site-packages (from SQLAlchemy<3,>=1.4->langchain==0.0.271) (3.0.3)\n",
      "Requirement already satisfied: colorama in c:\\users\\lenovo\\desktop\\ite group\\ai_staff\\.venv\\lib\\site-packages (from tqdm->openai) (0.4.6)\n",
      "Requirement already satisfied: mypy-extensions>=0.3.0 in c:\\users\\lenovo\\desktop\\ite group\\ai_staff\\.venv\\lib\\site-packages (from typing-inspect<1,>=0.4.0->dataclasses-json<0.6.0,>=0.5.7->langchain==0.0.271) (1.0.0)\n",
      "Using cached langchain-0.0.271-py3-none-any.whl (1.5 MB)\n",
      "Installing collected packages: langchain\n",
      "  Attempting uninstall: langchain\n",
      "    Found existing installation: langchain 0.0.270\n",
      "    Uninstalling langchain-0.0.270:\n",
      "      Successfully uninstalled langchain-0.0.270\n",
      "Successfully installed langchain-0.0.271\n"
     ]
    }
   ],
   "source": [
    "!pip install langchain==0.0.270\n",
    "!pip install faiss-cpu langchain==0.0.271 openai tiktoken"
   ]
  },
  {
   "cell_type": "code",
   "execution_count": 3,
   "metadata": {},
   "outputs": [],
   "source": [
    "import os\n",
    "import getpass\n",
    "\n",
    "os.environ[\"OPENAI_API_KEY\"] = getpass.getpass(\"OpenAI API Key:\")"
   ]
  },
  {
   "cell_type": "code",
   "execution_count": 4,
   "metadata": {},
   "outputs": [],
   "source": [
    "from langchain.embeddings.openai import OpenAIEmbeddings\n",
    "from langchain.text_splitter import CharacterTextSplitter\n",
    "from langchain.vectorstores import FAISS\n",
    "from langchain.document_loaders import TextLoader\n",
    "from langchain.text_splitter import RecursiveCharacterTextSplitter\n",
    "import re\n",
    "import requests\n",
    "import openai\n",
    "from langchain.docstore.document import Document"
   ]
  },
  {
   "cell_type": "code",
   "execution_count": 5,
   "metadata": {},
   "outputs": [],
   "source": [
    "# функция для загрузки документа по ссылке из гугл драйв\n",
    "def load_document_text(url: str) -> str:\n",
    "    # Extract the document ID from the URL\n",
    "    match_ = re.search('/document/d/([a-zA-Z0-9-_]+)', url)\n",
    "    if match_ is None:\n",
    "        raise ValueError('Invalid Google Docs URL')\n",
    "    doc_id = match_.group(1)\n",
    "\n",
    "    # Download the document as plain text\n",
    "    response = requests.get(f'https://docs.google.com/document/d/{doc_id}/export?format=txt')\n",
    "    response.raise_for_status()\n",
    "    text = response.text\n",
    "\n",
    "    return text"
   ]
  },
  {
   "cell_type": "code",
   "execution_count": 6,
   "metadata": {},
   "outputs": [],
   "source": [
    "# База знаний, которая будет подаваться в langChain\n",
    "data_from_url= load_document_text('https://docs.google.com/document/d/1goH4wHT1SDvvDEWo0VwuCmFncKsIfTFb')\n"
   ]
  },
  {
   "cell_type": "code",
   "execution_count": 7,
   "metadata": {},
   "outputs": [
    {
     "data": {
      "text/plain": [
       "'\\ufeffОнихолизис\\r\\n\\r\\n\\r\\nОнихолизис – это отделение ногтевой пластины от ногтевого ложа. ><\\r\\nПри данной проблеме изменяется цвет пластины, ее структура, форма. В результате она отслаивается от ложа. ><\\r\\nМногие не уделяют онихолизису должного внимания, считают его косметическим недостатком. ><\\r\\nМежду тем разрушенная структура создает высокий риск развития грибковых, бактериальных инфекций. Заниматься восстановлением ногтя необходимо, чтобы исключить серьезные последствия. ><\\r\\n\\r\\n\\r\\n\\r\\n\\r\\nПричины появления онихолизиса\\r\\nВ большинстве случаев он является следствием травмы. Ногтевая пластина может быть повреждена при защемлении пальца, ударе. Если говорить об этой проблеме на пальцах ног, то основная причина – деформация стопы, которая приводит к деформации пальцев и как следствие – онихолизису. ><\\r\\nПричиной может быть неправильная обувь: узкая, маленькая, давящая сверху на пальцы, высокие каблуки. В этом случае каждый шаг является травмой для ногтевой пластины. ><\\r\\nТакже давление может оказываться на ногтевую пластину не извне, а изнутри. После травм на дистальных фалангах может появляться экзостос (костно-хрящевое образование), которое постепенно увеличивается в размерах и начинает давить изнутри на ногтевую пластину, и мы можем видеть внешнее проявление в виде онихолизиса. ><\\r\\nТравма гипонихия. Это часто случается, когда клиенты слишком усердно чистят под свободным краем ногтевой пластины. Слишком длинный свободный край ногтевой пластины на пальцах ног. ><\\r\\nВызвать негативные процессы в структуре ногтя может некачественный лак, контакт с активными химическими агентами. ><\\r\\nСамой распространенной причиной онихолизиса на руках — являются химический или температурный ожег ногтевого ложа при покрытии гель-лаком. ><\\r\\nОнихомикоз (грибок ногтевой пластины) и такие кожные заболевания, как псориаз, дерматит, экзема также могут быть причиной онихолизиса. ><\\r\\n\\r\\n\\r\\n\\r\\n\\r\\nСимптомы\\r\\n\\r\\n\\r\\nЕсть несколько симптомов, характерных для данной патологии. Интенсивность их проявления зависит от стадии. При онихолизисе: ><\\r\\nНогтевые пластины становятся ломкими><\\r\\nИзменяется оттенок ногтя, он становится желтым, серым><\\r\\nТекстура становится неравномерной, появляются неровности><\\r\\nНаблюдаются болевые ощущения при нажатии><\\r\\nКожа вокруг пластины краснеет><\\r\\n\\r\\n\\r\\nПризнаки аналогичны тем, что проявляются и при грибке. Но имеются определенные отличия.\\r\\nОнхолизис не является заразным, при контактах не передается. Отслоение пластины наблюдается на начальных этапах, тогда как при грибке этот процесс начинается в запущенной форме. ><\\r\\nСледует учесть, что онхолизис и грибок могут развиваться одновременно. Поэтому при появлении первых симптомов необходимо обратиться к подологу, дерматологу, микологу. ><\\r\\n\\r\\n\\r\\n\\r\\n\\r\\nОбработка ногтей при онихолизисе><\\r\\n\\r\\n\\r\\nПервое, что нужно сделать – сдать анализы. Если есть инфекция, то только вылечив ее мы можем надеяться на полное восстановление ногтя. ><\\r\\nВторое – срезать отслоившуюся часть ногтя, провести необходимую зачистку, но только если клиент готов заниматься  восстановлением ногтевой пластины. Если этого не сделать, то скорее всего процесс затянется. Отделенная часть будет более сухой и, соответственно, будет скручиваться, деформируя ногтевую пластину не давая прирасти ногтю к ногтевому ложу. ><\\r\\nТретье – даже если анализ не подтвердил наличие инфекции, клиенту все равно необходимо использовать в домашнем уходе профилактические препараты для предупреждения инфицирования. ><\\r\\nИ последнее – это регенерирующие препараты для восстановления ногтевого ложа местного применения и витамины для волос и ногтей. ><\\r\\nНу и конечно один раз в месяц клиенту нужно будет посещать специалиста, который будет следить за процессом восстановления ногтевой пластины><'"
      ]
     },
     "execution_count": 7,
     "metadata": {},
     "output_type": "execute_result"
    }
   ],
   "source": [
    "data_from_url"
   ]
  },
  {
   "cell_type": "code",
   "execution_count": 8,
   "metadata": {},
   "outputs": [
    {
     "name": "stdout",
     "output_type": "stream",
     "text": [
      "Онихолизис\\n\\nОнихолизис – это отделение ногтевой пластины от ногтевого ложа.\\n\\nПри данной проблеме изменяется цвет пластины, ее структура, форма. В результате она отслаивается от ложа.\\n\\nМногие не уделяют онихолизису должного внимания, считают его косметическим недостатком.\\n\\nМежду тем разрушенная структура создает высокий риск развития грибковых, бактериальных инфекций. Заниматься восстановлением ногтя необходимо, чтобы исключить серьезные последствия.\\n\\nПричины появления онихолизиса В большинстве случаев он является следствием травмы. Ногтевая пластина может быть повреждена при защемлении пальца, ударе. Если говорить об этой проблеме на пальцах ног, то основная причина – деформация стопы, которая приводит к деформации пальцев и как следствие – онихолизису.\\n\\nПричиной может быть неправильная обувь: узкая, маленькая, давящая сверху на пальцы, высокие каблуки. В этом случае каждый шаг является травмой для ногтевой пластины.\\n\\nТакже давление может оказываться на ногтевую пластину не извне, а изнутри. После травм на дистальных фалангах может появляться экзостос (костно-хрящевое образование), которое постепенно увеличивается в размерах и начинает давить изнутри на ногтевую пластину, и мы можем видеть внешнее проявление в виде онихолизиса.\\n\\nТравма гипонихия. Это часто случается, когда клиенты слишком усердно чистят под свободным краем ногтевой пластины. Слишком длинный свободный край ногтевой пластины на пальцах ног.\\n\\nВызвать негативные процессы в структуре ногтя может некачественный лак, контакт с активными химическими агентами.\\n\\nСамой распространенной причиной онихолизиса на руках — являются химический или температурный ожег ногтевого ложа при покрытии гель-лаком.\\n\\nОнихомикоз (грибок ногтевой пластины) и такие кожные заболевания, как псориаз, дерматит, экзема также могут быть причиной онихолизиса.\\n\\nСимптомы\\n\\nЕсть несколько симптомов, характерных для данной патологии. Интенсивность их проявления зависит от стадии. При онихолизисе:\\n\\nНогтевые пластины становятся ломкими\\n\\nИзменяется оттенок ногтя, он становится желтым, серым\\n\\nТекстура становится неравномерной, появляются неровности\\n\\nНаблюдаются болевые ощущения при нажатии\\n\\nКожа вокруг пластины краснеет\\n\\nПризнаки аналогичны тем, что проявляются и при грибке. Но имеются определенные отличия.\\n\\nОнхолизис не является заразным, при контактах не передается. Отслоение пластины наблюдается на начальных этапах, тогда как при грибке этот процесс начинается в запущенной форме.\\n\\nСледует учесть, что онхолизис и грибок могут развиваться одновременно. Поэтому при появлении первых симптомов необходимо обратиться к подологу, дерматологу, микологу.\\n\\nОбработка ногтей при онихолизисе\\n\\nПервое, что нужно сделать – сдать анализы. Если есть инфекция, то только вылечив ее мы можем надеяться на полное восстановление ногтя.\\n\\nВторое – срезать отслоившуюся часть ногтя, провести необходимую зачистку, но только если клиент готов заниматься  восстановлением ногтевой пластины. Если этого не сделать, то скорее всего процесс затянется. Отделенная часть будет более сухой и, соответственно, будет скручиваться, деформируя ногтевую пластину не давая прирасти ногтю к ногтевому ложу.\\n\\nТретье – даже если анализ не подтвердил наличие инфекции, клиенту все равно необходимо использовать в домашнем уходе профилактические препараты для предупреждения инфицирования.\\n\\nИ последнее – это регенерирующие препараты для восстановления ногтевого ложа местного применения и витамины для волос и ногтей.\\n\\nНу и конечно один раз в месяц клиенту нужно будет посещать специалиста, который будет следить за процессом восстановления ногтевой пластины\\n\\n\n"
     ]
    }
   ],
   "source": [
    "# Открываем файл для чтения\n",
    "with open('C:/Users/lenovo/Desktop/ITE Group/AI_STAFF/Neuro/BASE.txt', 'r', encoding='utf-8') as file:\n",
    "    # Читаем содержимое файла и сохраняем его в переменную content\n",
    "    content = file.read()\n",
    "    # Выводим содержимое файла на экран\n",
    "    print(content)"
   ]
  },
  {
   "cell_type": "code",
   "execution_count": 9,
   "metadata": {},
   "outputs": [],
   "source": [
    "source_chunks = []\n",
    "splitter = CharacterTextSplitter(separator=\" \", chunk_size=102, chunk_overlap=0)\n",
    "\n",
    "for chunk in splitter.split_text(content):\n",
    "    source_chunks.append(Document(page_content=chunk, metadata={}))"
   ]
  },
  {
   "cell_type": "code",
   "execution_count": 10,
   "metadata": {},
   "outputs": [
    {
     "data": {
      "text/plain": [
       "38"
      ]
     },
     "execution_count": 10,
     "metadata": {},
     "output_type": "execute_result"
    }
   ],
   "source": [
    "# всего получилось чанков:\n",
    "len(source_chunks)"
   ]
  },
  {
   "cell_type": "code",
   "execution_count": 11,
   "metadata": {},
   "outputs": [
    {
     "name": "stdout",
     "output_type": "stream",
     "text": [
      "page_content='Онихолизис\\\\n\\\\nОнихолизис – это отделение ногтевой пластины от ногтевого ложа.\\\\n\\\\nПри данной проблеме' metadata={}\n",
      "100\n"
     ]
    }
   ],
   "source": [
    "# первый чанк\n",
    "print(source_chunks[0])\n",
    "page_content = source_chunks[0].page_content\n",
    "# длина первого чанка\n",
    "print(len(page_content))"
   ]
  },
  {
   "cell_type": "code",
   "execution_count": 12,
   "metadata": {},
   "outputs": [
    {
     "name": "stdout",
     "output_type": "stream",
     "text": [
      "{'teg': 'раздел 1'}\n"
     ]
    }
   ],
   "source": [
    "# Устанавливаем метаданные для первого чанка\n",
    "source_chunks[0].metadata = {\"teg\": \"раздел 1\"}\n",
    "\n",
    "# выводим на печать обновленные метаданные чанка\n",
    "print(source_chunks[0].metadata)"
   ]
  },
  {
   "cell_type": "code",
   "execution_count": 14,
   "metadata": {},
   "outputs": [],
   "source": [
    "loader = TextLoader(\"C:/Users/lenovo/Desktop/ITE Group/AI_STAFF/Neuro/BASE.txt\", encoding='utf-8')\n",
    "\n",
    "data_from_file = loader.load()"
   ]
  },
  {
   "cell_type": "code",
   "execution_count": 15,
   "metadata": {},
   "outputs": [
    {
     "data": {
      "text/plain": [
       "Document(page_content='Онихолизис\\\\n\\\\nОнихолизис – это отделение ногтевой пластины от ногтевого ложа.\\\\n\\\\nПри данной проблеме изменяется цвет пластины, ее структура, форма. В результате она отслаивается от ложа.\\\\n\\\\nМногие не уделяют онихолизису должного внимания, считают его косметическим недостатком.\\\\n\\\\nМежду тем разрушенная структура создает высокий риск развития грибковых, бактериальных инфекций. Заниматься восстановлением ногтя необходимо, чтобы исключить серьезные последствия.\\\\n\\\\nПричины появления онихолизиса В большинстве случаев он является следствием травмы. Ногтевая пластина может быть повреждена при защемлении пальца, ударе. Если говорить об этой проблеме на пальцах ног, то основная причина – деформация стопы, которая приводит к деформации пальцев и как следствие – онихолизису.\\\\n\\\\nПричиной может быть неправильная обувь: узкая, маленькая, давящая сверху на пальцы, высокие каблуки. В этом случае каждый шаг является травмой для ногтевой пластины.\\\\n\\\\nТакже давление может оказываться на ногтевую пластину не извне, а изнутри. После травм на дистальных фалангах может появляться экзостос (костно-хрящевое образование), которое постепенно увеличивается в размерах и начинает давить изнутри на ногтевую пластину, и мы можем видеть внешнее проявление в виде онихолизиса.\\\\n\\\\nТравма гипонихия. Это часто случается, когда клиенты слишком усердно чистят под свободным краем ногтевой пластины. Слишком длинный свободный край ногтевой пластины на пальцах ног.\\\\n\\\\nВызвать негативные процессы в структуре ногтя может некачественный лак, контакт с активными химическими агентами.\\\\n\\\\nСамой распространенной причиной онихолизиса на руках — являются химический или температурный ожег ногтевого ложа при покрытии гель-лаком.\\\\n\\\\nОнихомикоз (грибок ногтевой пластины) и такие кожные заболевания, как псориаз, дерматит, экзема также могут быть причиной онихолизиса.\\\\n\\\\nСимптомы\\\\n\\\\nЕсть несколько симптомов, характерных для данной патологии. Интенсивность их проявления зависит от стадии. При онихолизисе:\\\\n\\\\nНогтевые пластины становятся ломкими\\\\n\\\\nИзменяется оттенок ногтя, он становится желтым, серым\\\\n\\\\nТекстура становится неравномерной, появляются неровности\\\\n\\\\nНаблюдаются болевые ощущения при нажатии\\\\n\\\\nКожа вокруг пластины краснеет\\\\n\\\\nПризнаки аналогичны тем, что проявляются и при грибке. Но имеются определенные отличия.\\\\n\\\\nОнхолизис не является заразным, при контактах не передается. Отслоение пластины наблюдается на начальных этапах, тогда как при грибке этот процесс начинается в запущенной форме.\\\\n\\\\nСледует учесть, что онхолизис и грибок могут развиваться одновременно. Поэтому при появлении первых симптомов необходимо обратиться к подологу, дерматологу, микологу.\\\\n\\\\nОбработка ногтей при онихолизисе\\\\n\\\\nПервое, что нужно сделать – сдать анализы. Если есть инфекция, то только вылечив ее мы можем надеяться на полное восстановление ногтя.\\\\n\\\\nВторое – срезать отслоившуюся часть ногтя, провести необходимую зачистку, но только если клиент готов заниматься  восстановлением ногтевой пластины. Если этого не сделать, то скорее всего процесс затянется. Отделенная часть будет более сухой и, соответственно, будет скручиваться, деформируя ногтевую пластину не давая прирасти ногтю к ногтевому ложу.\\\\n\\\\nТретье – даже если анализ не подтвердил наличие инфекции, клиенту все равно необходимо использовать в домашнем уходе профилактические препараты для предупреждения инфицирования.\\\\n\\\\nИ последнее – это регенерирующие препараты для восстановления ногтевого ложа местного применения и витамины для волос и ногтей.\\\\n\\\\nНу и конечно один раз в месяц клиенту нужно будет посещать специалиста, который будет следить за процессом восстановления ногтевой пластины\\\\n\\\\n', metadata={'source': 'C:/Users/lenovo/Desktop/ITE Group/AI_STAFF/Neuro/BASE.txt'})"
      ]
     },
     "execution_count": 15,
     "metadata": {},
     "output_type": "execute_result"
    }
   ],
   "source": [
    "data_from_file[0]"
   ]
  },
  {
   "cell_type": "code",
   "execution_count": 16,
   "metadata": {},
   "outputs": [],
   "source": [
    "from langchain.text_splitter import RecursiveCharacterTextSplitter"
   ]
  },
  {
   "cell_type": "code",
   "execution_count": 17,
   "metadata": {},
   "outputs": [
    {
     "data": {
      "text/plain": [
       "4"
      ]
     },
     "execution_count": 17,
     "metadata": {},
     "output_type": "execute_result"
    }
   ],
   "source": [
    "source_chunks=[]\n",
    "splitter = RecursiveCharacterTextSplitter(chunk_size=1024, chunk_overlap=0)\n",
    "for chunk in splitter.split_text(content):\n",
    "    source_chunks.append(Document(page_content=chunk, metadata={}))\n",
    "len(source_chunks)"
   ]
  },
  {
   "cell_type": "code",
   "execution_count": 18,
   "metadata": {},
   "outputs": [
    {
     "data": {
      "text/plain": [
       "Document(page_content='ногтя, он становится желтым, серым\\\\n\\\\nТекстура становится неравномерной, появляются неровности\\\\n\\\\nНаблюдаются болевые ощущения при нажатии\\\\n\\\\nКожа вокруг пластины краснеет\\\\n\\\\nПризнаки аналогичны тем, что проявляются и при грибке. Но имеются определенные отличия.\\\\n\\\\nОнхолизис не является заразным, при контактах не передается. Отслоение пластины наблюдается на начальных этапах, тогда как при грибке этот процесс начинается в запущенной форме.\\\\n\\\\nСледует учесть, что онхолизис и грибок могут развиваться одновременно. Поэтому при появлении первых симптомов необходимо обратиться к подологу, дерматологу, микологу.\\\\n\\\\nОбработка ногтей при онихолизисе\\\\n\\\\nПервое, что нужно сделать – сдать анализы. Если есть инфекция, то только вылечив ее мы можем надеяться на полное восстановление ногтя.\\\\n\\\\nВторое – срезать отслоившуюся часть ногтя, провести необходимую зачистку, но только если клиент готов заниматься  восстановлением ногтевой пластины. Если этого не сделать, то скорее всего процесс затянется. Отделенная часть будет', metadata={})"
      ]
     },
     "execution_count": 18,
     "metadata": {},
     "output_type": "execute_result"
    }
   ],
   "source": [
    "source_chunks[2]"
   ]
  },
  {
   "cell_type": "code",
   "execution_count": 19,
   "metadata": {},
   "outputs": [],
   "source": [
    "# Инициализирум модель эмбеддингов\n",
    "embeddings = OpenAIEmbeddings()\n",
    "\n"
   ]
  },
  {
   "cell_type": "code",
   "execution_count": 20,
   "metadata": {},
   "outputs": [],
   "source": [
    "import openai"
   ]
  },
  {
   "cell_type": "code",
   "execution_count": 21,
   "metadata": {},
   "outputs": [],
   "source": [
    "# Создадим индексную базу из разделенных фрагментов текста\n",
    "try:\n",
    "    \n",
    "    db = FAISS.from_documents(source_chunks, embeddings)\n",
    "    \n",
    "except Exception as e:\n",
    "    print(\"Произошла ошибка:\", e)"
   ]
  },
  {
   "cell_type": "code",
   "execution_count": 22,
   "metadata": {},
   "outputs": [],
   "source": [
    "from openai import error"
   ]
  },
  {
   "cell_type": "code",
   "execution_count": 23,
   "metadata": {},
   "outputs": [],
   "source": [
    "#pip install openai --upgrade"
   ]
  },
  {
   "cell_type": "code",
   "execution_count": 24,
   "metadata": {},
   "outputs": [],
   "source": [
    "# Создадим индексную базу из разделенных фрагментов текста\n",
    "db = FAISS.from_documents(source_chunks, embeddings)"
   ]
  },
  {
   "cell_type": "code",
   "execution_count": 25,
   "metadata": {},
   "outputs": [
    {
     "name": "stdout",
     "output_type": "stream",
     "text": [
      "**отрезок №1** Онихолизис\\n\\nОнихолизис – это отделение ногтевой пластины от ногтевого ложа.\\n\\nПри данной проблеме изменяется цвет пластины, ее структура, форма. В результате она отслаивается от ложа.\\n\\nМногие не уделяют онихолизису должного внимания, считают его косметическим недостатком.\\n\\nМежду тем разрушенная структура создает высокий риск развития грибковых, бактериальных инфекций. Заниматься восстановлением ногтя необходимо, чтобы исключить серьезные последствия.\\n\\nПричины появления онихолизиса В большинстве случаев он является следствием травмы. Ногтевая пластина может быть повреждена при защемлении пальца, ударе. Если говорить об этой проблеме на пальцах ног, то основная причина – деформация стопы, которая приводит к деформации пальцев и как следствие – онихолизису.\\n\\nПричиной может быть неправильная обувь: узкая, маленькая, давящая сверху на пальцы, высокие каблуки. В этом случае каждый шаг является травмой для ногтевой пластины.\\n\\nТакже давление может оказываться на ногтевую пластину не извне, а изнутри.\n",
      "**отрезок №2** После травм на дистальных фалангах может появляться экзостос (костно-хрящевое образование), которое постепенно увеличивается в размерах и начинает давить изнутри на ногтевую пластину, и мы можем видеть внешнее проявление в виде онихолизиса.\\n\\nТравма гипонихия. Это часто случается, когда клиенты слишком усердно чистят под свободным краем ногтевой пластины. Слишком длинный свободный край ногтевой пластины на пальцах ног.\\n\\nВызвать негативные процессы в структуре ногтя может некачественный лак, контакт с активными химическими агентами.\\n\\nСамой распространенной причиной онихолизиса на руках — являются химический или температурный ожег ногтевого ложа при покрытии гель-лаком.\\n\\nОнихомикоз (грибок ногтевой пластины) и такие кожные заболевания, как псориаз, дерматит, экзема также могут быть причиной онихолизиса.\\n\\nСимптомы\\n\\nЕсть несколько симптомов, характерных для данной патологии. Интенсивность их проявления зависит от стадии. При онихолизисе:\\n\\nНогтевые пластины становятся ломкими\\n\\nИзменяется оттенок\n",
      "**отрезок №3** ногтя, он становится желтым, серым\\n\\nТекстура становится неравномерной, появляются неровности\\n\\nНаблюдаются болевые ощущения при нажатии\\n\\nКожа вокруг пластины краснеет\\n\\nПризнаки аналогичны тем, что проявляются и при грибке. Но имеются определенные отличия.\\n\\nОнхолизис не является заразным, при контактах не передается. Отслоение пластины наблюдается на начальных этапах, тогда как при грибке этот процесс начинается в запущенной форме.\\n\\nСледует учесть, что онхолизис и грибок могут развиваться одновременно. Поэтому при появлении первых симптомов необходимо обратиться к подологу, дерматологу, микологу.\\n\\nОбработка ногтей при онихолизисе\\n\\nПервое, что нужно сделать – сдать анализы. Если есть инфекция, то только вылечив ее мы можем надеяться на полное восстановление ногтя.\\n\\nВторое – срезать отслоившуюся часть ногтя, провести необходимую зачистку, но только если клиент готов заниматься  восстановлением ногтевой пластины. Если этого не сделать, то скорее всего процесс затянется. Отделенная часть будет\n",
      "**отрезок №4** более сухой и, соответственно, будет скручиваться, деформируя ногтевую пластину не давая прирасти ногтю к ногтевому ложу.\\n\\nТретье – даже если анализ не подтвердил наличие инфекции, клиенту все равно необходимо использовать в домашнем уходе профилактические препараты для предупреждения инфицирования.\\n\\nИ последнее – это регенерирующие препараты для восстановления ногтевого ложа местного применения и витамины для волос и ногтей.\\n\\nНу и конечно один раз в месяц клиенту нужно будет посещать специалиста, который будет следить за процессом восстановления ногтевой пластины\\n\\n\n"
     ]
    }
   ],
   "source": [
    "query = \"Как лечить онихолизис?\"\n",
    "docs = db.similarity_search(query, k=4)\n",
    "\n",
    "print(\"**отрезок №1**\", docs[0].page_content)\n",
    "print(\"**отрезок №2**\", docs[1].page_content)\n",
    "print(\"**отрезок №3**\", docs[2].page_content)\n",
    "print(\"**отрезок №4**\", docs[3].page_content)"
   ]
  },
  {
   "cell_type": "code",
   "execution_count": 26,
   "metadata": {},
   "outputs": [],
   "source": [
    "docs_and_scores = db.similarity_search_with_score(query, k=4)"
   ]
  },
  {
   "cell_type": "code",
   "execution_count": 27,
   "metadata": {},
   "outputs": [
    {
     "name": "stdout",
     "output_type": "stream",
     "text": [
      "Контент:  Онихолизис\\n\\nОнихолизис – это отделение ногтевой пластины от ногтевого ложа.\\n\\nПри данной проблеме изменяется цвет пластины, ее структура, форма. В результате она отслаивается от ложа.\\n\\nМногие не уделяют онихолизису должного внимания, считают его косметическим недостатком.\\n\\nМежду тем разрушенная структура создает высокий риск развития грибковых, бактериальных инфекций. Заниматься восстановлением ногтя необходимо, чтобы исключить серьезные последствия.\\n\\nПричины появления онихолизиса В большинстве случаев он является следствием травмы. Ногтевая пластина может быть повреждена при защемлении пальца, ударе. Если говорить об этой проблеме на пальцах ног, то основная причина – деформация стопы, которая приводит к деформации пальцев и как следствие – онихолизису.\\n\\nПричиной может быть неправильная обувь: узкая, маленькая, давящая сверху на пальцы, высокие каблуки. В этом случае каждый шаг является травмой для ногтевой пластины.\\n\\nТакже давление может оказываться на ногтевую пластину не извне, а изнутри.\n",
      "Оценка расстояния:  0.33623105\n"
     ]
    }
   ],
   "source": [
    "# первый фрагмент\n",
    "print(\"Контент: \", docs_and_scores[0][0].page_content)\n",
    "print(\"Оценка расстояния: \", docs_and_scores[0][1])"
   ]
  },
  {
   "cell_type": "code",
   "execution_count": 28,
   "metadata": {},
   "outputs": [
    {
     "name": "stdout",
     "output_type": "stream",
     "text": [
      "Контент:  После травм на дистальных фалангах может появляться экзостос (костно-хрящевое образование), которое постепенно увеличивается в размерах и начинает давить изнутри на ногтевую пластину, и мы можем видеть внешнее проявление в виде онихолизиса.\\n\\nТравма гипонихия. Это часто случается, когда клиенты слишком усердно чистят под свободным краем ногтевой пластины. Слишком длинный свободный край ногтевой пластины на пальцах ног.\\n\\nВызвать негативные процессы в структуре ногтя может некачественный лак, контакт с активными химическими агентами.\\n\\nСамой распространенной причиной онихолизиса на руках — являются химический или температурный ожег ногтевого ложа при покрытии гель-лаком.\\n\\nОнихомикоз (грибок ногтевой пластины) и такие кожные заболевания, как псориаз, дерматит, экзема также могут быть причиной онихолизиса.\\n\\nСимптомы\\n\\nЕсть несколько симптомов, характерных для данной патологии. Интенсивность их проявления зависит от стадии. При онихолизисе:\\n\\nНогтевые пластины становятся ломкими\\n\\nИзменяется оттенок\n",
      "Оценка расстояния:  0.33800787\n"
     ]
    }
   ],
   "source": [
    "# второй фрагмент\n",
    "print(\"Контент: \", docs_and_scores[1][0].page_content)\n",
    "print(\"Оценка расстояния: \", docs_and_scores[1][1])"
   ]
  },
  {
   "cell_type": "code",
   "execution_count": 31,
   "metadata": {},
   "outputs": [],
   "source": [
    "# Функция, которая позволяет выводить ответ модели в удобочитаемом виде\n",
    "def insert_newlines(text: str, max_len: int = 170) -> str:\n",
    "    words = text.split()\n",
    "    lines = []\n",
    "    current_line = \"\"\n",
    "    for word in words:\n",
    "        if len(current_line + \" \" + word) > max_len:\n",
    "            lines.append(current_line)\n",
    "            current_line = \"\"\n",
    "        current_line += \" \" + word\n",
    "    lines.append(current_line)\n",
    "    return \" \".join(lines)\n",
    "\n",
    "def answer_index(system, topic, search_index, verbose=1):\n",
    "\n",
    "    # Поиск релевантных отрезков из базы знаний\n",
    "    docs = search_index.similarity_search(topic, k=4)\n",
    "    if verbose: print('\\n ===========================================: ')\n",
    "    message_content = re.sub(r'\\n{2}', ' ', '\\n '.join([f'\\nОтрывок документа №{i+1}\\n=====================' + doc.page_content + '\\n' for i, doc in enumerate(docs)]))\n",
    "    if verbose: print('message_content :\\n ======================================== \\n', message_content)\n",
    "\n",
    "    messages = [\n",
    "        {\"role\": \"system\", \"content\": system},\n",
    "        {\"role\": \"user\", \"content\": f\"Ответь на вопрос клиента. Не упоминай документ с информацией для ответа клиенту в ответе. Документ с информацией для ответа клиенту: {message_content}\\n\\nВопрос клиента: \\n{topic}\"}\n",
    "    ]\n",
    "\n",
    "    if verbose: print('\\n ===========================================: ')\n",
    "\n",
    "    completion = openai.ChatCompletion.create(\n",
    "        model=\"gpt-4o\",\n",
    "        messages=messages,\n",
    "        temperature=0\n",
    "    )\n",
    "    answer = insert_newlines(completion.choices[0].message.content)\n",
    "    return answer  # возвращает ответ"
   ]
  },
  {
   "cell_type": "code",
   "execution_count": 33,
   "metadata": {},
   "outputs": [],
   "source": [
    "system=\"Ты-консультант в центре подологии, ответь на вопрос клиента на основе документа с информацией. Не придумывай ничего от себя, отвечай максимально по документу. Не упоминай Документ с информацией для ответа клиенту. Клиент ничего не должен знать про Документ с информацией для ответа клиенту\""
   ]
  },
  {
   "cell_type": "code",
   "execution_count": 34,
   "metadata": {},
   "outputs": [
    {
     "name": "stdout",
     "output_type": "stream",
     "text": [
      "\n",
      " ===========================================: \n",
      "message_content :\n",
      " ======================================== \n",
      " \n",
      "Отрывок документа №1\n",
      "=====================Онихолизис\\n\\nОнихолизис – это отделение ногтевой пластины от ногтевого ложа.\\n\\nПри данной проблеме изменяется цвет пластины, ее структура, форма. В результате она отслаивается от ложа.\\n\\nМногие не уделяют онихолизису должного внимания, считают его косметическим недостатком.\\n\\nМежду тем разрушенная структура создает высокий риск развития грибковых, бактериальных инфекций. Заниматься восстановлением ногтя необходимо, чтобы исключить серьезные последствия.\\n\\nПричины появления онихолизиса В большинстве случаев он является следствием травмы. Ногтевая пластина может быть повреждена при защемлении пальца, ударе. Если говорить об этой проблеме на пальцах ног, то основная причина – деформация стопы, которая приводит к деформации пальцев и как следствие – онихолизису.\\n\\nПричиной может быть неправильная обувь: узкая, маленькая, давящая сверху на пальцы, высокие каблуки. В этом случае каждый шаг является травмой для ногтевой пластины.\\n\\nТакже давление может оказываться на ногтевую пластину не извне, а изнутри.  \n",
      "Отрывок документа №2\n",
      "=====================более сухой и, соответственно, будет скручиваться, деформируя ногтевую пластину не давая прирасти ногтю к ногтевому ложу.\\n\\nТретье – даже если анализ не подтвердил наличие инфекции, клиенту все равно необходимо использовать в домашнем уходе профилактические препараты для предупреждения инфицирования.\\n\\nИ последнее – это регенерирующие препараты для восстановления ногтевого ложа местного применения и витамины для волос и ногтей.\\n\\nНу и конечно один раз в месяц клиенту нужно будет посещать специалиста, который будет следить за процессом восстановления ногтевой пластины\\n\\n  \n",
      "Отрывок документа №3\n",
      "=====================После травм на дистальных фалангах может появляться экзостос (костно-хрящевое образование), которое постепенно увеличивается в размерах и начинает давить изнутри на ногтевую пластину, и мы можем видеть внешнее проявление в виде онихолизиса.\\n\\nТравма гипонихия. Это часто случается, когда клиенты слишком усердно чистят под свободным краем ногтевой пластины. Слишком длинный свободный край ногтевой пластины на пальцах ног.\\n\\nВызвать негативные процессы в структуре ногтя может некачественный лак, контакт с активными химическими агентами.\\n\\nСамой распространенной причиной онихолизиса на руках — являются химический или температурный ожег ногтевого ложа при покрытии гель-лаком.\\n\\nОнихомикоз (грибок ногтевой пластины) и такие кожные заболевания, как псориаз, дерматит, экзема также могут быть причиной онихолизиса.\\n\\nСимптомы\\n\\nЕсть несколько симптомов, характерных для данной патологии. Интенсивность их проявления зависит от стадии. При онихолизисе:\\n\\nНогтевые пластины становятся ломкими\\n\\nИзменяется оттенок  \n",
      "Отрывок документа №4\n",
      "=====================ногтя, он становится желтым, серым\\n\\nТекстура становится неравномерной, появляются неровности\\n\\nНаблюдаются болевые ощущения при нажатии\\n\\nКожа вокруг пластины краснеет\\n\\nПризнаки аналогичны тем, что проявляются и при грибке. Но имеются определенные отличия.\\n\\nОнхолизис не является заразным, при контактах не передается. Отслоение пластины наблюдается на начальных этапах, тогда как при грибке этот процесс начинается в запущенной форме.\\n\\nСледует учесть, что онхолизис и грибок могут развиваться одновременно. Поэтому при появлении первых симптомов необходимо обратиться к подологу, дерматологу, микологу.\\n\\nОбработка ногтей при онихолизисе\\n\\nПервое, что нужно сделать – сдать анализы. Если есть инфекция, то только вылечив ее мы можем надеяться на полное восстановление ногтя.\\n\\nВторое – срезать отслоившуюся часть ногтя, провести необходимую зачистку, но только если клиент готов заниматься  восстановлением ногтевой пластины. Если этого не сделать, то скорее всего процесс затянется. Отделенная часть будет\n",
      "\n",
      "\n",
      " ===========================================: \n"
     ]
    },
    {
     "data": {
      "text/plain": [
       "' Отделение ногтя, или онихолизис, требует внимательного подхода к лечению. В первую очередь, необходимо сдать анализы, чтобы исключить наличие инфекции. Если инфекция  обнаружена, её нужно вылечить для полного восстановления ногтя. Далее, важно срезать отслоившуюся часть ногтя и провести необходимую зачистку. Это поможет предотвратить  дальнейшее развитие проблемы. В домашнем уходе рекомендуется использовать профилактические препараты для предупреждения инфицирования и регенерирующие препараты для  восстановления ногтевого ложа. Также полезно принимать витамины для волос и ногтей. Не забывайте посещать специалиста раз в месяц для контроля процесса восстановления  ногтевой пластины.'"
      ]
     },
     "execution_count": 34,
     "metadata": {},
     "output_type": "execute_result"
    }
   ],
   "source": [
    "# вопрос пользователя\n",
    "topic= \"У меня отделился ноготь. Как лечить?\"\n",
    "ans=answer_index(system, topic, db)\n",
    "ans"
   ]
  },
  {
   "cell_type": "code",
   "execution_count": 35,
   "metadata": {},
   "outputs": [
    {
     "name": "stdout",
     "output_type": "stream",
     "text": [
      "\n",
      " ===========================================: \n",
      "message_content :\n",
      " ======================================== \n",
      " \n",
      "Отрывок документа №1\n",
      "=====================Онихолизис\\n\\nОнихолизис – это отделение ногтевой пластины от ногтевого ложа.\\n\\nПри данной проблеме изменяется цвет пластины, ее структура, форма. В результате она отслаивается от ложа.\\n\\nМногие не уделяют онихолизису должного внимания, считают его косметическим недостатком.\\n\\nМежду тем разрушенная структура создает высокий риск развития грибковых, бактериальных инфекций. Заниматься восстановлением ногтя необходимо, чтобы исключить серьезные последствия.\\n\\nПричины появления онихолизиса В большинстве случаев он является следствием травмы. Ногтевая пластина может быть повреждена при защемлении пальца, ударе. Если говорить об этой проблеме на пальцах ног, то основная причина – деформация стопы, которая приводит к деформации пальцев и как следствие – онихолизису.\\n\\nПричиной может быть неправильная обувь: узкая, маленькая, давящая сверху на пальцы, высокие каблуки. В этом случае каждый шаг является травмой для ногтевой пластины.\\n\\nТакже давление может оказываться на ногтевую пластину не извне, а изнутри.  \n",
      "Отрывок документа №2\n",
      "=====================более сухой и, соответственно, будет скручиваться, деформируя ногтевую пластину не давая прирасти ногтю к ногтевому ложу.\\n\\nТретье – даже если анализ не подтвердил наличие инфекции, клиенту все равно необходимо использовать в домашнем уходе профилактические препараты для предупреждения инфицирования.\\n\\nИ последнее – это регенерирующие препараты для восстановления ногтевого ложа местного применения и витамины для волос и ногтей.\\n\\nНу и конечно один раз в месяц клиенту нужно будет посещать специалиста, который будет следить за процессом восстановления ногтевой пластины\\n\\n  \n",
      "Отрывок документа №3\n",
      "=====================После травм на дистальных фалангах может появляться экзостос (костно-хрящевое образование), которое постепенно увеличивается в размерах и начинает давить изнутри на ногтевую пластину, и мы можем видеть внешнее проявление в виде онихолизиса.\\n\\nТравма гипонихия. Это часто случается, когда клиенты слишком усердно чистят под свободным краем ногтевой пластины. Слишком длинный свободный край ногтевой пластины на пальцах ног.\\n\\nВызвать негативные процессы в структуре ногтя может некачественный лак, контакт с активными химическими агентами.\\n\\nСамой распространенной причиной онихолизиса на руках — являются химический или температурный ожег ногтевого ложа при покрытии гель-лаком.\\n\\nОнихомикоз (грибок ногтевой пластины) и такие кожные заболевания, как псориаз, дерматит, экзема также могут быть причиной онихолизиса.\\n\\nСимптомы\\n\\nЕсть несколько симптомов, характерных для данной патологии. Интенсивность их проявления зависит от стадии. При онихолизисе:\\n\\nНогтевые пластины становятся ломкими\\n\\nИзменяется оттенок  \n",
      "Отрывок документа №4\n",
      "=====================ногтя, он становится желтым, серым\\n\\nТекстура становится неравномерной, появляются неровности\\n\\nНаблюдаются болевые ощущения при нажатии\\n\\nКожа вокруг пластины краснеет\\n\\nПризнаки аналогичны тем, что проявляются и при грибке. Но имеются определенные отличия.\\n\\nОнхолизис не является заразным, при контактах не передается. Отслоение пластины наблюдается на начальных этапах, тогда как при грибке этот процесс начинается в запущенной форме.\\n\\nСледует учесть, что онхолизис и грибок могут развиваться одновременно. Поэтому при появлении первых симптомов необходимо обратиться к подологу, дерматологу, микологу.\\n\\nОбработка ногтей при онихолизисе\\n\\nПервое, что нужно сделать – сдать анализы. Если есть инфекция, то только вылечив ее мы можем надеяться на полное восстановление ногтя.\\n\\nВторое – срезать отслоившуюся часть ногтя, провести необходимую зачистку, но только если клиент готов заниматься  восстановлением ногтевой пластины. Если этого не сделать, то скорее всего процесс затянется. Отделенная часть будет\n",
      "\n",
      "\n",
      " ===========================================: \n"
     ]
    },
    {
     "data": {
      "text/plain": [
       "' Отделение ногтя от ногтевого ложа, или онихолизис, требует особого внимания и ухода. Важно понимать, что самостоятельно \"вставить\" ноготь на место невозможно и это может  привести к осложнениям. Рекомендуется следующее: 1. Обратитесь к специалисту, чтобы определить причину отделения ногтя и получить профессиональную помощь. 2. Сдайте  анализы для исключения инфекций. 3. Используйте профилактические препараты для предупреждения инфицирования. 4. Применяйте регенерирующие препараты для восстановления  ногтевого ложа и витамины для волос и ногтей. 5. Посещайте специалиста раз в месяц для контроля процесса восстановления. Самостоятельные попытки вернуть ноготь на место  могут усугубить ситуацию и привести к инфекциям или другим осложнениям.'"
      ]
     },
     "execution_count": 35,
     "metadata": {},
     "output_type": "execute_result"
    }
   ],
   "source": [
    "# вопрос пользователя\n",
    "topic= \"У меня отделился ноготь от пальца. Как самостоятельно его вставить на место?\"\n",
    "ans=answer_index(system, topic, db)\n",
    "ans"
   ]
  },
  {
   "cell_type": "code",
   "execution_count": 36,
   "metadata": {},
   "outputs": [
    {
     "name": "stdout",
     "output_type": "stream",
     "text": [
      "\n",
      " ===========================================: \n",
      "message_content :\n",
      " ======================================== \n",
      " \n",
      "Отрывок документа №1\n",
      "=====================более сухой и, соответственно, будет скручиваться, деформируя ногтевую пластину не давая прирасти ногтю к ногтевому ложу.\\n\\nТретье – даже если анализ не подтвердил наличие инфекции, клиенту все равно необходимо использовать в домашнем уходе профилактические препараты для предупреждения инфицирования.\\n\\nИ последнее – это регенерирующие препараты для восстановления ногтевого ложа местного применения и витамины для волос и ногтей.\\n\\nНу и конечно один раз в месяц клиенту нужно будет посещать специалиста, который будет следить за процессом восстановления ногтевой пластины\\n\\n  \n",
      "Отрывок документа №2\n",
      "=====================Онихолизис\\n\\nОнихолизис – это отделение ногтевой пластины от ногтевого ложа.\\n\\nПри данной проблеме изменяется цвет пластины, ее структура, форма. В результате она отслаивается от ложа.\\n\\nМногие не уделяют онихолизису должного внимания, считают его косметическим недостатком.\\n\\nМежду тем разрушенная структура создает высокий риск развития грибковых, бактериальных инфекций. Заниматься восстановлением ногтя необходимо, чтобы исключить серьезные последствия.\\n\\nПричины появления онихолизиса В большинстве случаев он является следствием травмы. Ногтевая пластина может быть повреждена при защемлении пальца, ударе. Если говорить об этой проблеме на пальцах ног, то основная причина – деформация стопы, которая приводит к деформации пальцев и как следствие – онихолизису.\\n\\nПричиной может быть неправильная обувь: узкая, маленькая, давящая сверху на пальцы, высокие каблуки. В этом случае каждый шаг является травмой для ногтевой пластины.\\n\\nТакже давление может оказываться на ногтевую пластину не извне, а изнутри.  \n",
      "Отрывок документа №3\n",
      "=====================После травм на дистальных фалангах может появляться экзостос (костно-хрящевое образование), которое постепенно увеличивается в размерах и начинает давить изнутри на ногтевую пластину, и мы можем видеть внешнее проявление в виде онихолизиса.\\n\\nТравма гипонихия. Это часто случается, когда клиенты слишком усердно чистят под свободным краем ногтевой пластины. Слишком длинный свободный край ногтевой пластины на пальцах ног.\\n\\nВызвать негативные процессы в структуре ногтя может некачественный лак, контакт с активными химическими агентами.\\n\\nСамой распространенной причиной онихолизиса на руках — являются химический или температурный ожег ногтевого ложа при покрытии гель-лаком.\\n\\nОнихомикоз (грибок ногтевой пластины) и такие кожные заболевания, как псориаз, дерматит, экзема также могут быть причиной онихолизиса.\\n\\nСимптомы\\n\\nЕсть несколько симптомов, характерных для данной патологии. Интенсивность их проявления зависит от стадии. При онихолизисе:\\n\\nНогтевые пластины становятся ломкими\\n\\nИзменяется оттенок  \n",
      "Отрывок документа №4\n",
      "=====================ногтя, он становится желтым, серым\\n\\nТекстура становится неравномерной, появляются неровности\\n\\nНаблюдаются болевые ощущения при нажатии\\n\\nКожа вокруг пластины краснеет\\n\\nПризнаки аналогичны тем, что проявляются и при грибке. Но имеются определенные отличия.\\n\\nОнхолизис не является заразным, при контактах не передается. Отслоение пластины наблюдается на начальных этапах, тогда как при грибке этот процесс начинается в запущенной форме.\\n\\nСледует учесть, что онхолизис и грибок могут развиваться одновременно. Поэтому при появлении первых симптомов необходимо обратиться к подологу, дерматологу, микологу.\\n\\nОбработка ногтей при онихолизисе\\n\\nПервое, что нужно сделать – сдать анализы. Если есть инфекция, то только вылечив ее мы можем надеяться на полное восстановление ногтя.\\n\\nВторое – срезать отслоившуюся часть ногтя, провести необходимую зачистку, но только если клиент готов заниматься  восстановлением ногтевой пластины. Если этого не сделать, то скорее всего процесс затянется. Отделенная часть будет\n",
      "\n",
      "\n",
      " ===========================================: \n"
     ]
    },
    {
     "data": {
      "text/plain": [
       "' Если не заниматься восстановлением ногтя, существует несколько рисков. Во-первых, разрушенная структура ногтя создает высокий риск развития грибковых и бактериальных  инфекций. Во-вторых, ногтевая пластина может деформироваться, что приведет к изменению ее цвета, структуры и формы. В-третьих, могут возникнуть болевые ощущения и  покраснение кожи вокруг ногтя. Важно помнить, что онихолизис и грибок могут развиваться одновременно, поэтому при первых симптомах необходимо обратиться к специалисту.'"
      ]
     },
     "execution_count": 36,
     "metadata": {},
     "output_type": "execute_result"
    }
   ],
   "source": [
    "# вопрос пользователя\n",
    "topic= \"Какие есть риски в том, чтобы не восстанавливать ноготь?\"\n",
    "ans=answer_index(system, topic, db)\n",
    "ans"
   ]
  }
 ],
 "metadata": {
  "kernelspec": {
   "display_name": "base",
   "language": "python",
   "name": "python3"
  },
  "language_info": {
   "codemirror_mode": {
    "name": "ipython",
    "version": 3
   },
   "file_extension": ".py",
   "mimetype": "text/x-python",
   "name": "python",
   "nbconvert_exporter": "python",
   "pygments_lexer": "ipython3",
   "version": "3.12.2"
  }
 },
 "nbformat": 4,
 "nbformat_minor": 2
}
